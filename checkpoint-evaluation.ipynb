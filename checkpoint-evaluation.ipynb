{
 "cells": [
  {
   "cell_type": "code",
   "execution_count": 17,
   "metadata": {},
   "outputs": [],
   "source": [
    "import pymongo\n",
    "import pandas as pd\n",
    "\n",
    "from collections import Counter\n",
    "from scripts import MONGO_URL\n",
    "from scripts.analysis import data, plot, checkpoint\n",
    "\n",
    "plot.init_matplotlib()\n",
    "\n",
    "W, H = 6, 2.5"
   ]
  },
  {
   "cell_type": "code",
   "execution_count": 18,
   "metadata": {},
   "outputs": [],
   "source": [
    "repos, stars = data.get_fake_star_repos(), data.get_fake_stars_by_month()\n",
    "repos_with_campaign = data.get_repos_with_campaign()\n",
    "\n",
    "checkpoint_repo_events = pd.read_csv(\"data/checkpoint_repo_events.csv\")\n",
    "checkpoint_actors = checkpoint.CHECKPOINT_ACCOUNTS"
   ]
  },
  {
   "cell_type": "code",
   "execution_count": null,
   "metadata": {},
   "outputs": [
    {
     "name": "stdout",
     "output_type": "stream",
     "text": [
      "168 repos in malware campaign in total\n",
      "85 repos with >= 50 stars\n",
      "Recall: 68/85 = 0.8000\n",
      "Recall wo. postprocessing: 70/85 = 0.8235\n"
     ]
    }
   ],
   "source": [
    "# Only consider repositories with >= 50 stars\n",
    "checkpoint_repos = {\n",
    "    repo\n",
    "    for repo, n_stars in Counter(\n",
    "        checkpoint_repo_events[checkpoint_repo_events.type == \"WatchEvent\"].repo\n",
    "    ).items()\n",
    "    if n_stars >= 50\n",
    "}\n",
    "\n",
    "print(len(set(checkpoint_repo_events.repo)), \"repos in malware campaign in total\")\n",
    "print(len(checkpoint_repos), \"repos with >= 50 stars\")\n",
    "print(\n",
    "    f\"Recall: {len(repos_with_campaign & set(checkpoint_repos))}/{len(checkpoint_repos)}\"\n",
    "    f\" = {len(repos_with_campaign & set(checkpoint_repos)) / len(checkpoint_repos):.4f}\"\n",
    ")\n",
    "print(\n",
    "    f\"Recall wo. postprocessing: {len(set(repos.repo_name) & set(checkpoint_repos))}/{len(set(checkpoint_repos))}\"\n",
    "    f\" = {len(set(repos.repo_name) & set(checkpoint_repos)) / len(checkpoint_repos):.4f}\"\n",
    ")\n",
    "\n"
   ]
  },
  {
   "cell_type": "code",
   "execution_count": 22,
   "metadata": {},
   "outputs": [
    {
     "name": "stdout",
     "output_type": "stream",
     "text": [
      "0 311 311 374\n",
      "Recall: 0.8316\n"
     ]
    }
   ],
   "source": [
    "with pymongo.MongoClient(MONGO_URL) as client:\n",
    "    stars = list(\n",
    "        client[\"fake_stars\"][\"clustered_stars\"].find(\n",
    "            {\"actor\": {\"$in\": list(checkpoint_actors)}}\n",
    "        )\n",
    "    ) + list(\n",
    "        client[\"fake_stars\"][\"low_activity_stars\"].find(\n",
    "            {\"actor\": {\"$in\": list(checkpoint_actors)}}\n",
    "        )\n",
    "    )\n",
    "n_actors_low_activity = len(\n",
    "    set(s[\"actor\"] for s in stars if s.get(\"low_activity\", False))\n",
    ")\n",
    "n_actors_clustered = len(set(s[\"actor\"] for s in stars if s.get(\"clustered\", False)))\n",
    "n_actors_both = len(\n",
    "    set(\n",
    "        s[\"actor\"]\n",
    "        for s in stars\n",
    "        if s.get(\"clustered\", False) or s.get(\"low_activity\", False)\n",
    "    )\n",
    ")\n",
    "print(\n",
    "    n_actors_low_activity,\n",
    "    n_actors_clustered,\n",
    "    n_actors_both,\n",
    "    len(checkpoint_actors),\n",
    ")\n",
    "print(f\"Recall: {n_actors_both / len(checkpoint_actors):.4f}\")"
   ]
  }
 ],
 "metadata": {
  "kernelspec": {
   "display_name": "fake-stars",
   "language": "python",
   "name": "python3"
  },
  "language_info": {
   "codemirror_mode": {
    "name": "ipython",
    "version": 3
   },
   "file_extension": ".py",
   "mimetype": "text/x-python",
   "name": "python",
   "nbconvert_exporter": "python",
   "pygments_lexer": "ipython3",
   "version": "3.12.5"
  }
 },
 "nbformat": 4,
 "nbformat_minor": 2
}
