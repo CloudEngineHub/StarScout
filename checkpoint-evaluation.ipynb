{
 "cells": [
  {
   "cell_type": "code",
   "execution_count": 4,
   "metadata": {},
   "outputs": [],
   "source": [
    "import pymongo\n",
    "import pandas as pd\n",
    "\n",
    "from collections import Counter\n",
    "from scripts import MONGO_URL\n",
    "from scripts.analysis import data, plot\n",
    "\n",
    "plot.init_matplotlib()\n",
    "\n",
    "W, H = 6, 2.5"
   ]
  },
  {
   "cell_type": "code",
   "execution_count": 3,
   "metadata": {},
   "outputs": [],
   "source": [
    "repos, stars = data.get_fake_star_repos(), data.get_fake_stars_by_month()\n",
    "repos_with_campaign = data.get_repos_with_campaign()\n",
    "\n",
    "checkpoint_repo_events = pd.read_csv(\"data/checkpoint_repo_events.csv\")\n",
    "checkpoint_repos2 = \"\"\"\n",
    "armoly/Discord-Bot\n",
    "armoly/Ds-Spm\n",
    "armoly/Email-Spm\n",
    "armoly/Tg-Spm\n",
    "armoly/Tg-SpmTg-Spm\n",
    "armoly/Twt-Spm\n",
    "bleblquck/FT-Vieww\n",
    "bleblquck/Kck-Vw\n",
    "bleblquck/Trv-Vws\n",
    "bleblquck/Tw-Vws\n",
    "dscvm/Discord-Vbot\n",
    "dscvm/Visoul-Grabber\n",
    "glassmuysa/Htlx-Gen-Check\n",
    "glassmuysa/Mail-Ac-Gen\n",
    "glassmuysa/TwT-Genr\n",
    "glassmuysa/Ytb-Dwnld\n",
    "gooles54/Rison-Raid-Bot\n",
    "gooles54/Rison-Trading-Bot\n",
    "gooles54/WPscn\n",
    "lzero121/TWT-vWS\n",
    "lzero121/Ytb-Vws\n",
    "lzero121/iNS-vWS\n",
    "lzero121/tK-vWS\n",
    "memekch/TWT-vWS\n",
    "memekch/Ytb-Vws\n",
    "memekch/iNS-vWS\n",
    "memekch/tK-vWS\n",
    "memo1l/ChatGpt-Turbo\n",
    "sokratso/KMSpic-Ac\n",
    "valiso0/Mail-Ac-Generator\n",
    "valiso0/TwT-Gen\n",
    "valiso0/Ytb-Dwnld\n",
    "\"\"\".strip().split(\"\\n\")"
   ]
  },
  {
   "cell_type": "code",
   "execution_count": 14,
   "metadata": {},
   "outputs": [
    {
     "data": {
      "text/plain": [
       "85"
      ]
     },
     "execution_count": 14,
     "metadata": {},
     "output_type": "execute_result"
    }
   ],
   "source": [
    "checkpoint_repos = Counter(checkpoint_repo_events[checkpoint_repo_events.type == \"WatchEvent\"].repo)\n",
    "checkpoint_repos = {r for r, n in checkpoint_repos.items() if n >= 50}\n",
    "len(checkpoint_repos)"
   ]
  },
  {
   "cell_type": "code",
   "execution_count": 15,
   "metadata": {},
   "outputs": [
    {
     "name": "stdout",
     "output_type": "stream",
     "text": [
      "18675 68\n"
     ]
    }
   ],
   "source": [
    "print(\n",
    "    len(repos_with_campaign),\n",
    "    len(repos_with_campaign & set(checkpoint_repos)),\n",
    ")"
   ]
  },
  {
   "cell_type": "code",
   "execution_count": 4,
   "metadata": {},
   "outputs": [
    {
     "data": {
      "text/plain": [
       "70"
      ]
     },
     "execution_count": 4,
     "metadata": {},
     "output_type": "execute_result"
    }
   ],
   "source": [
    "len(set(repos.repo_name) & set(checkpoint_repos.repo_name))"
   ]
  },
  {
   "cell_type": "code",
   "execution_count": 9,
   "metadata": {},
   "outputs": [
    {
     "data": {
      "text/plain": [
       "23"
      ]
     },
     "execution_count": 9,
     "metadata": {},
     "output_type": "execute_result"
    }
   ],
   "source": [
    "len(repos_with_campaign & set(checkpoint_repos2))"
   ]
  },
  {
   "cell_type": "code",
   "execution_count": 10,
   "metadata": {},
   "outputs": [
    {
     "data": {
      "text/plain": [
       "{'MikeWoWOne/Fortnite-hack-version',\n",
       " 'MikeWoWOne/GameMaker-Studio-2-Crack',\n",
       " 'MikeWoWOne/HWID-spoofer-for-games',\n",
       " 'MikeWoWOne/IObit-Uninstaller-Latest-Version-Crack',\n",
       " 'MikeWoWOne/JetBrains-IntelliJ-IDEA-Crack',\n",
       " 'MikeWoWOne/KMS-Auto-Windows-and-Office-Activator',\n",
       " 'MikeWoWOne/Kiddions-mod-menu-gta-5',\n",
       " 'MikeWoWOne/LoL-hack-script',\n",
       " 'MikeWoWOne/Magix-Music-Maker-Crack',\n",
       " 'MikeWoWOne/Matlab-Crack',\n",
       " 'MikeWoWOne/NARAKA-BLADEPOINT-Hack-Free',\n",
       " 'MikeWoWOne/NEAR-HOT-WALLET-AUTOBOT',\n",
       " 'MikeWoWOne/Nero-Burning-ROM-Crack',\n",
       " 'MikeWoWOne/NordVPN-Pro-Crack-Full-Version',\n",
       " 'MikeWoWOne/hamster-kombat-bot-free',\n",
       " 'MikeWoWOne/memefi-coin-crypto-bot',\n",
       " 'armoly/Discord-Bot',\n",
       " 'armoly/Ds-Spm',\n",
       " 'armoly/Email-Spm',\n",
       " 'armoly/Tg-Spm',\n",
       " 'armoly/Twt-Spm',\n",
       " 'bleblquck/FT-Vieww',\n",
       " 'bleblquck/Kck-Vw',\n",
       " 'bleblquck/Trv-Vws',\n",
       " 'bleblquck/Tw-Vws',\n",
       " 'dscvm/Discord-Vbot',\n",
       " 'dscvm/Visoul-Grabber',\n",
       " 'lzero121/TWT-vWS',\n",
       " 'lzero121/Ytb-Vws',\n",
       " 'lzero121/iNS-vWS',\n",
       " 'lzero121/tK-vWS',\n",
       " 'memekch/TWT-vWS',\n",
       " 'memekch/Ytb-Vws',\n",
       " 'memekch/iNS-vWS',\n",
       " 'memekch/tK-vWS',\n",
       " 'memo1l/ChatGpt-Turbo',\n",
       " 'teenjay/Sound-Forge-crack',\n",
       " 'teenjay/TFT-Unlocker-Tool-FUll',\n",
       " 'teenjay/TeamViewer-Latest-Crack-2024',\n",
       " 'teenjay/The-unifier-is-both-Video',\n",
       " 'teenjay/Toon-Boom-Harmony-Crack',\n",
       " 'teenjay/TradingView-scripts',\n",
       " 'teenjay/Uniswap-bot',\n",
       " 'teenjay/Unity-Pro-Cracks',\n",
       " 'teenjay/VLC-Media-Player-Crack',\n",
       " 'teenjay/Vape-V4-Crack-Kangaroo',\n",
       " 'teenjay/Youtube-365-Auto-upload-cheat-checker',\n",
       " 'teenjay/ZBrush-Crack',\n",
       " 'teenjay/yescoin-bot-installation',\n",
       " 'valiso0/Mail-Ac-Generator',\n",
       " 'valiso0/TwT-Gen',\n",
       " 'valiso0/Ytb-Dwnld',\n",
       " 'yCodezao/Microsoft-Office-2024-Cracked-Version',\n",
       " 'yCodezao/Microsoft-Project-Crack',\n",
       " 'yCodezao/Notcoin-crypto-bot',\n",
       " 'yCodezao/Parallels-Desktop-Crack',\n",
       " 'yCodezao/Path-Of-Exile-Hack',\n",
       " 'yCodezao/Pinnacle-Studio-Crack',\n",
       " 'yCodezao/PlayDoge-Auto-Farm-and-Bot-Setup',\n",
       " 'yCodezao/Pro-Tools-Crack',\n",
       " 'yCodezao/Revit-Crack',\n",
       " 'yCodezao/Rhinoceros-Crack',\n",
       " 'yCodezao/SEED-SEARCHER-Crypto-Checker-30-Wallets',\n",
       " 'yCodezao/Sandbox-CryptoBot',\n",
       " 'yCodezao/ShibaShootout-CryptoBot',\n",
       " 'yCodezao/SolidWorks-crack',\n",
       " 'yCodezao/cs2-hvh',\n",
       " 'yCodezao/pixel-wallet-bot-free'}"
      ]
     },
     "execution_count": 10,
     "metadata": {},
     "output_type": "execute_result"
    }
   ],
   "source": [
    "repos_with_campaign & set(checkpoint_repos.repo_name)"
   ]
  },
  {
   "cell_type": "code",
   "execution_count": 5,
   "metadata": {},
   "outputs": [
    {
     "name": "stdout",
     "output_type": "stream",
     "text": [
      "328 374\n",
      "311 374\n"
     ]
    }
   ],
   "source": [
    "with pymongo.MongoClient(MONGO_URL) as client:\n",
    "    stars = list(\n",
    "        client[\"fake_stars\"][\"clustered_stars\"].find(\n",
    "            {\"actor\": {\"$in\": list(checkpoint_actors.actor)}}\n",
    "        )\n",
    "    ) + list(\n",
    "        client[\"fake_stars\"][\"low_activity_stars\"].find(\n",
    "            {\"actor\": {\"$in\": list(checkpoint_actors.actor)}}\n",
    "        )\n",
    "    )\n",
    "print(len(set(s[\"actor\"] for s in stars)), len(checkpoint_actors))\n",
    "print(\n",
    "    len(\n",
    "        set(\n",
    "            s[\"actor\"]\n",
    "            for s in stars\n",
    "            if s.get(\"clustered\", False) or s.get(\"low_activity\", False)\n",
    "        )\n",
    "    ),\n",
    "    len(checkpoint_actors),\n",
    ")"
   ]
  }
 ],
 "metadata": {
  "kernelspec": {
   "display_name": "fake-stars",
   "language": "python",
   "name": "python3"
  },
  "language_info": {
   "codemirror_mode": {
    "name": "ipython",
    "version": 3
   },
   "file_extension": ".py",
   "mimetype": "text/x-python",
   "name": "python",
   "nbconvert_exporter": "python",
   "pygments_lexer": "ipython3",
   "version": "3.12.5"
  }
 },
 "nbformat": 4,
 "nbformat_minor": 2
}
