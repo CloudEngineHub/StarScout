{
 "cells": [
  {
   "cell_type": "code",
   "execution_count": null,
   "metadata": {},
   "outputs": [],
   "source": [
    "import pandas as pd\n",
    "\n",
    "from scripts.analysis import data\n",
    "\n",
    "repos = data.get_fake_star_repos_all()\n",
    "repos_dagster = pd.read_csv(\"data/dagster_test/fake_stars_complex_repos.csv\")\n",
    "stars_dagster = pd.read_csv(\"data/dagster_test/fake_stars_complex_users.csv\")\n",
    "\n",
    "repos_dagster = repos_dagster[(repos_dagster.n_fake_stars >= 50)]\n",
    "repo_ids_dagster = set(repos_dagster.repo_id)\n",
    "\n",
    "print(\n",
    "    len(repo_ids_dagster),\n",
    "    len(set(repos.repo_id) & repo_ids_dagster),\n",
    "    repo_ids_dagster - set(repos.repo_id),\n",
    ")\n",
    "perfs = []\n",
    "for repo_id in set(repos.repo_id) & repo_ids_dagster:\n",
    "    repo_names = set(repos[repos.repo_id == repo_id].repo_name)\n",
    "    fakes_copycatch, fakes_dagster = set(), set()\n",
    "    for repo_name in repo_names:\n",
    "        df = data.get_stars_from_repo(repo_name)\n",
    "        if df is None:\n",
    "            continue\n",
    "        fakes_copycatch |= set(df[df.low_activity | df.clustered].actor)\n",
    "        fakes_dagster |= set(\n",
    "            stars_dagster[\n",
    "                (stars_dagster.repo_name == repo_name)\n",
    "                & (stars_dagster.fake_acct != \"unknown\")\n",
    "            ].actor\n",
    "        )\n",
    "    perfs.append(\n",
    "        {\n",
    "            \"repo_names\": repo_names,\n",
    "            \"n_fakes_copycatch\": len(fakes_copycatch),\n",
    "            \"n_fakes_dagster\": len(fakes_dagster),\n",
    "            \"n_overlap\": len(fakes_copycatch & fakes_dagster),\n",
    "        }\n",
    "    )\n",
    "perfs = pd.DataFrame(perfs)\n",
    "print(\"Precision:\", perfs.n_overlap.sum() / perfs.n_fakes_copycatch.sum())\n",
    "print(\"Recall:\", perfs.n_overlap.sum() / perfs.n_fakes_dagster.sum())\n",
    "perfs"
   ]
  }
 ],
 "metadata": {
  "kernelspec": {
   "display_name": "fake-star",
   "language": "python",
   "name": "python3"
  },
  "language_info": {
   "name": "python",
   "version": "3.12.4"
  }
 },
 "nbformat": 4,
 "nbformat_minor": 2
}
