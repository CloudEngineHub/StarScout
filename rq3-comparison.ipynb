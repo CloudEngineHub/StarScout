{
 "cells": [
  {
   "cell_type": "code",
   "execution_count": 1,
   "metadata": {},
   "outputs": [],
   "source": [
    "import pandas as pd\n",
    "\n",
    "from collections import Counter\n",
    "from scripts import END_DATE\n",
    "from scripts.analysis import data"
   ]
  },
  {
   "cell_type": "code",
   "execution_count": 2,
   "metadata": {},
   "outputs": [],
   "source": [
    "repos_with_campaign = data.get_repos_with_campaign()\n",
    "low_activity_actors_in_campaign = data.get_unique_actors(\n",
    "    \"low_activity_stars\",\n",
    "    {\"low_activity\": True, \"repo\": {\"$in\": list(repos_with_campaign)}},\n",
    ")\n",
    "clustered_actors_in_campaign = data.get_unique_actors(\n",
    "    \"clustered_stars\",\n",
    "    {\"clustered\": True, \"repo\": {\"$in\": list(repos_with_campaign)}},\n",
    ")\n",
    "\n",
    "fake_actor_info = pd.read_csv(f\"data/{END_DATE}/fake_user_info.csv\")\n",
    "sample_actor_info = pd.read_csv(f\"data/{END_DATE}/sample_user_info.csv\")\n",
    "fake_actor_info = fake_actor_info[\n",
    "    fake_actor_info.actor.isin(\n",
    "        low_activity_actors_in_campaign | clustered_actors_in_campaign\n",
    "    )\n",
    "]"
   ]
  },
  {
   "cell_type": "code",
   "execution_count": 3,
   "metadata": {},
   "outputs": [
    {
     "name": "stdout",
     "output_type": "stream",
     "text": [
      "Counter({True: 393, False: 389}) 0.5025575447570333 0.4974424552429667\n",
      "Counter({False: 749, True: 33}) 0.04219948849104859 0.9578005115089514\n",
      "Counter({False: 692, True: 90}) 0.11508951406649616 0.8849104859335039\n",
      "Counter({False: 631, True: 151}) 0.19309462915601022 0.8069053708439897\n",
      "Counter({False: 5502, True: 3483}) 0.3876460767946578 0.6123539232053422\n",
      "Counter({False: 8307, True: 678}) 0.07545909849749582 0.9245409015025041\n",
      "Counter({False: 7154, True: 1831}) 0.20378408458542013 0.7962159154145798\n",
      "Counter({False: 7126, True: 1859}) 0.2069003895381191 0.7930996104618809\n"
     ]
    }
   ],
   "source": [
    "for col in [\"default_avatar\", \"has_organization\", \"has_blog\", \"has_company\"]:\n",
    "    counter = Counter(fake_actor_info[fake_actor_info[col].notna()][col])\n",
    "    print(\n",
    "        counter,\n",
    "        counter[True] / sum(counter.values()),\n",
    "        1 - counter[True] / sum(counter.values()),\n",
    "    )\n",
    "for col in [\"default_avatar\", \"has_organization\", \"has_blog\", \"has_company\"]:\n",
    "    counter = Counter(sample_actor_info[sample_actor_info[col].notna()][col])\n",
    "    print(\n",
    "        counter,\n",
    "        counter[True] / sum(counter.values()),\n",
    "        1 - counter[True] / sum(counter.values()),\n",
    "    )"
   ]
  }
 ],
 "metadata": {
  "kernelspec": {
   "display_name": "fake-stars",
   "language": "python",
   "name": "python3"
  },
  "language_info": {
   "codemirror_mode": {
    "name": "ipython",
    "version": 3
   },
   "file_extension": ".py",
   "mimetype": "text/x-python",
   "name": "python",
   "nbconvert_exporter": "python",
   "pygments_lexer": "ipython3",
   "version": "3.12.5"
  }
 },
 "nbformat": 4,
 "nbformat_minor": 2
}
