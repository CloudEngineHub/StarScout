{
 "cells": [
  {
   "cell_type": "code",
   "execution_count": 1,
   "metadata": {},
   "outputs": [],
   "source": [
    "import pandas as pd\n",
    "from scripts.copycatch.iterative import CopyCatchParams, CopyCatch"
   ]
  },
  {
   "cell_type": "code",
   "execution_count": 2,
   "metadata": {},
   "outputs": [
    {
     "name": "stderr",
     "output_type": "stream",
     "text": [
      "/home/haohe/anaconda3/envs/fake-star/lib/python3.12/site-packages/numpy/_core/fromnumeric.py:3596: RuntimeWarning: Mean of empty slice.\n",
      "  return _methods._mean(a, axis=axis, dtype=dtype,\n",
      "/home/haohe/anaconda3/envs/fake-star/lib/python3.12/site-packages/numpy/_core/_methods.py:138: RuntimeWarning: invalid value encountered in scalar divide\n",
      "  ret = ret.dtype.type(ret / rcount)\n"
     ]
    },
    {
     "ename": "AssertionError",
     "evalue": "",
     "output_type": "error",
     "traceback": [
      "\u001b[0;31m---------------------------------------------------------------------------\u001b[0m",
      "\u001b[0;31mAssertionError\u001b[0m                            Traceback (most recent call last)",
      "Cell \u001b[0;32mIn[2], line 10\u001b[0m\n\u001b[1;32m      2\u001b[0m copycatch_params \u001b[38;5;241m=\u001b[39m CopyCatchParams(\n\u001b[1;32m      3\u001b[0m     delta_t\u001b[38;5;241m=\u001b[39m\u001b[38;5;241m180\u001b[39m \u001b[38;5;241m*\u001b[39m \u001b[38;5;241m24\u001b[39m \u001b[38;5;241m*\u001b[39m \u001b[38;5;241m60\u001b[39m \u001b[38;5;241m*\u001b[39m \u001b[38;5;241m60\u001b[39m,  \u001b[38;5;66;03m# 180 days\u001b[39;00m\n\u001b[1;32m      4\u001b[0m     n\u001b[38;5;241m=\u001b[39m\u001b[38;5;241m50\u001b[39m,\n\u001b[0;32m   (...)\u001b[0m\n\u001b[1;32m      7\u001b[0m     beta\u001b[38;5;241m=\u001b[39m\u001b[38;5;241m2\u001b[39m,\n\u001b[1;32m      8\u001b[0m )\n\u001b[1;32m      9\u001b[0m copycatch \u001b[38;5;241m=\u001b[39m CopyCatch\u001b[38;5;241m.\u001b[39mfrom_df(copycatch_params, syn)\n\u001b[0;32m---> 10\u001b[0m \u001b[38;5;28;43;01mfor\u001b[39;49;00m\u001b[43m \u001b[49m\u001b[43musers\u001b[49m\u001b[43m,\u001b[49m\u001b[43m \u001b[49m\u001b[43mrepos\u001b[49m\u001b[43m \u001b[49m\u001b[38;5;129;43;01min\u001b[39;49;00m\u001b[43m \u001b[49m\u001b[43mcopycatch\u001b[49m\u001b[38;5;241;43m.\u001b[39;49m\u001b[43mrun\u001b[49m\u001b[43m(\u001b[49m\u001b[38;5;241;43m4\u001b[39;49m\u001b[43m)\u001b[49m\u001b[43m:\u001b[49m\n\u001b[1;32m     11\u001b[0m \u001b[43m    \u001b[49m\u001b[38;5;28;43mprint\u001b[39;49m\u001b[43m(\u001b[49m\u001b[43musers\u001b[49m\u001b[43m,\u001b[49m\u001b[43m \u001b[49m\u001b[43mrepos\u001b[49m\u001b[43m)\u001b[49m\n",
      "File \u001b[0;32m~/Fake-Star-Detector/scripts/copycatch/iterative.py:75\u001b[0m, in \u001b[0;36mCopyCatch.run\u001b[0;34m(self, n_seeds, max_iter)\u001b[0m\n\u001b[1;32m     73\u001b[0m seed_center \u001b[38;5;241m=\u001b[39m \u001b[38;5;28mself\u001b[39m\u001b[38;5;241m.\u001b[39mU[:, seed_repo]\u001b[38;5;241m.\u001b[39mcopy()\n\u001b[1;32m     74\u001b[0m logging\u001b[38;5;241m.\u001b[39mdebug(\u001b[38;5;124mf\u001b[39m\u001b[38;5;124m\"\u001b[39m\u001b[38;5;124mSeed: \u001b[39m\u001b[38;5;132;01m{\u001b[39;00m\u001b[38;5;28mself\u001b[39m\u001b[38;5;241m.\u001b[39mrepos[seed_repo]\u001b[38;5;132;01m}\u001b[39;00m\u001b[38;5;124m at \u001b[39m\u001b[38;5;132;01m{\u001b[39;00mseed_center\u001b[38;5;132;01m}\u001b[39;00m\u001b[38;5;124m\"\u001b[39m)\n\u001b[0;32m---> 75\u001b[0m center, rids \u001b[38;5;241m=\u001b[39m \u001b[38;5;28;43mself\u001b[39;49m\u001b[38;5;241;43m.\u001b[39;49m\u001b[43mrun_once\u001b[49m\u001b[43m(\u001b[49m\u001b[43mseed_center\u001b[49m\u001b[43m,\u001b[49m\u001b[43m \u001b[49m\u001b[38;5;28;43mself\u001b[39;49m\u001b[38;5;241;43m.\u001b[39;49m\u001b[43mrepos\u001b[49m\u001b[43m[\u001b[49m\u001b[43mseed_repo\u001b[49m\u001b[43m]\u001b[49m\u001b[43m,\u001b[49m\u001b[43m \u001b[49m\u001b[43mmax_iter\u001b[49m\u001b[43m)\u001b[49m\n\u001b[1;32m     76\u001b[0m uids \u001b[38;5;241m=\u001b[39m \u001b[38;5;28mself\u001b[39m\u001b[38;5;241m.\u001b[39m_get_current_users(center, rids)\n\u001b[1;32m     77\u001b[0m \u001b[38;5;28;01mif\u001b[39;00m \u001b[38;5;28mlen\u001b[39m(uids) \u001b[38;5;241m>\u001b[39m\u001b[38;5;241m=\u001b[39m \u001b[38;5;28mself\u001b[39m\u001b[38;5;241m.\u001b[39mn \u001b[38;5;129;01mand\u001b[39;00m \u001b[38;5;28mlen\u001b[39m(rids) \u001b[38;5;241m>\u001b[39m\u001b[38;5;241m=\u001b[39m \u001b[38;5;28mself\u001b[39m\u001b[38;5;241m.\u001b[39mm:\n",
      "File \u001b[0;32m~/Fake-Star-Detector/scripts/copycatch/iterative.py:91\u001b[0m, in \u001b[0;36mCopyCatch.run_once\u001b[0;34m(self, seed_center, seed_repo, max_iter)\u001b[0m\n\u001b[1;32m     89\u001b[0m \u001b[38;5;28;01mfor\u001b[39;00m _ \u001b[38;5;129;01min\u001b[39;00m \u001b[38;5;28mrange\u001b[39m(max_iter):\n\u001b[1;32m     90\u001b[0m     center_old, repo_ids_old \u001b[38;5;241m=\u001b[39m center\u001b[38;5;241m.\u001b[39mcopy(), repo_ids\u001b[38;5;241m.\u001b[39mcopy()\n\u001b[0;32m---> 91\u001b[0m     center \u001b[38;5;241m=\u001b[39m \u001b[38;5;28;43mself\u001b[39;49m\u001b[38;5;241;43m.\u001b[39;49m\u001b[43m_update_center\u001b[49m\u001b[43m(\u001b[49m\u001b[43mcenter\u001b[49m\u001b[43m,\u001b[49m\u001b[43m \u001b[49m\u001b[43mrepo_ids\u001b[49m\u001b[43m)\u001b[49m\n\u001b[1;32m     92\u001b[0m     repo_ids \u001b[38;5;241m=\u001b[39m \u001b[38;5;28mself\u001b[39m\u001b[38;5;241m.\u001b[39m_update_subspace(center, repo_ids)\n\u001b[1;32m     93\u001b[0m     \u001b[38;5;28;01mif\u001b[39;00m np\u001b[38;5;241m.\u001b[39mallclose(center_old, center) \u001b[38;5;129;01mand\u001b[39;00m repo_ids_old \u001b[38;5;241m==\u001b[39m repo_ids:\n",
      "File \u001b[0;32m~/Fake-Star-Detector/scripts/copycatch/iterative.py:104\u001b[0m, in \u001b[0;36mCopyCatch._update_center\u001b[0;34m(self, center, repo_ids)\u001b[0m\n\u001b[1;32m    102\u001b[0m c \u001b[38;5;241m=\u001b[39m np\u001b[38;5;241m.\u001b[39mmean([\u001b[38;5;28mself\u001b[39m\u001b[38;5;241m.\u001b[39mU[uid] \u001b[38;5;28;01mfor\u001b[39;00m uid \u001b[38;5;129;01min\u001b[39;00m curr_uids], axis\u001b[38;5;241m=\u001b[39m\u001b[38;5;241m0\u001b[39m)\n\u001b[1;32m    103\u001b[0m \u001b[38;5;28;01mfor\u001b[39;00m rid \u001b[38;5;129;01min\u001b[39;00m repo_ids:\n\u001b[0;32m--> 104\u001b[0m     curr_uids, w \u001b[38;5;241m=\u001b[39m \u001b[38;5;28;43mself\u001b[39;49m\u001b[38;5;241;43m.\u001b[39;49m\u001b[43m_find_users\u001b[49m\u001b[43m(\u001b[49m\u001b[43mc\u001b[49m\u001b[43m,\u001b[49m\u001b[43m \u001b[49m\u001b[43mrepo_ids\u001b[49m\u001b[43m,\u001b[49m\u001b[43m \u001b[49m\u001b[43mrid\u001b[49m\u001b[43m,\u001b[49m\u001b[43m \u001b[49m\u001b[38;5;28;43mself\u001b[39;49m\u001b[38;5;241;43m.\u001b[39;49m\u001b[43mbeta\u001b[49m\u001b[43m \u001b[49m\u001b[38;5;241;43m*\u001b[39;49m\u001b[43m \u001b[49m\u001b[38;5;28;43mself\u001b[39;49m\u001b[38;5;241;43m.\u001b[39;49m\u001b[43mdelta_t\u001b[49m\u001b[43m)\u001b[49m\n\u001b[1;32m    105\u001b[0m     _, c[rid] \u001b[38;5;241m=\u001b[39m \u001b[38;5;28mself\u001b[39m\u001b[38;5;241m.\u001b[39m_find_center(curr_uids, w, rid)\n\u001b[1;32m    107\u001b[0m \u001b[38;5;28;01mreturn\u001b[39;00m c\n",
      "File \u001b[0;32m~/Fake-Star-Detector/scripts/copycatch/iterative.py:189\u001b[0m, in \u001b[0;36mCopyCatch._find_users\u001b[0;34m(self, center, repo_ids, center_repo_id, relaxed_delta_t)\u001b[0m\n\u001b[1;32m    182\u001b[0m \u001b[38;5;28;01mdef\u001b[39;00m \u001b[38;5;21m_find_users\u001b[39m(\n\u001b[1;32m    183\u001b[0m     \u001b[38;5;28mself\u001b[39m,\n\u001b[1;32m    184\u001b[0m     center: np\u001b[38;5;241m.\u001b[39mndarray,\n\u001b[0;32m   (...)\u001b[0m\n\u001b[1;32m    187\u001b[0m     relaxed_delta_t: \u001b[38;5;28mfloat\u001b[39m,\n\u001b[1;32m    188\u001b[0m ) \u001b[38;5;241m-\u001b[39m\u001b[38;5;241m>\u001b[39m \u001b[38;5;28mtuple\u001b[39m[\u001b[38;5;28mset\u001b[39m[\u001b[38;5;28mint\u001b[39m], np\u001b[38;5;241m.\u001b[39mndarray]:\n\u001b[0;32m--> 189\u001b[0m     \u001b[38;5;28;01massert\u001b[39;00m center\u001b[38;5;241m.\u001b[39mshape \u001b[38;5;241m==\u001b[39m (\u001b[38;5;28mself\u001b[39m\u001b[38;5;241m.\u001b[39mM,)\n\u001b[1;32m    191\u001b[0m     user_ids, user_weights \u001b[38;5;241m=\u001b[39m \u001b[38;5;28mset\u001b[39m(), np\u001b[38;5;241m.\u001b[39mzeros(\u001b[38;5;28mself\u001b[39m\u001b[38;5;241m.\u001b[39mN)\n\u001b[1;32m    192\u001b[0m     \u001b[38;5;28;01mfor\u001b[39;00m uid \u001b[38;5;129;01min\u001b[39;00m \u001b[38;5;28mrange\u001b[39m(\u001b[38;5;28mself\u001b[39m\u001b[38;5;241m.\u001b[39mN):\n",
      "\u001b[0;31mAssertionError\u001b[0m: "
     ]
    }
   ],
   "source": [
    "syn = pd.read_csv(\"data/copycatch_test_stargazers_synthetic.csv\")\n",
    "copycatch_params = CopyCatchParams(\n",
    "    delta_t=180 * 24 * 60 * 60,  # 180 days\n",
    "    n=50,\n",
    "    m=3,\n",
    "    rho=0.5,\n",
    "    beta=2,\n",
    ")\n",
    "copycatch = CopyCatch.from_df(copycatch_params, syn)\n",
    "for users, repos in copycatch.run(4):\n",
    "    print(users, repos)"
   ]
  }
 ],
 "metadata": {
  "kernelspec": {
   "display_name": "fake-star",
   "language": "python",
   "name": "python3"
  },
  "language_info": {
   "codemirror_mode": {
    "name": "ipython",
    "version": 3
   },
   "file_extension": ".py",
   "mimetype": "text/x-python",
   "name": "python",
   "nbconvert_exporter": "python",
   "pygments_lexer": "ipython3",
   "version": "3.12.4"
  }
 },
 "nbformat": 4,
 "nbformat_minor": 2
}
