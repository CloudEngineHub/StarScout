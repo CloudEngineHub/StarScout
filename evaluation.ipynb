{
 "cells": [
  {
   "cell_type": "code",
   "execution_count": 19,
   "metadata": {},
   "outputs": [],
   "source": [
    "import random\n",
    "import pymongo\n",
    "import matplotlib.pyplot as plt\n",
    "\n",
    "from scripts import MONGO_URL\n",
    "from scripts.analysis import data\n",
    "\n",
    "\n",
    "def get_unique_actors(collection: str, query: dict) -> set:\n",
    "    with pymongo.MongoClient(MONGO_URL) as client:\n",
    "        return set(\n",
    "            map(\n",
    "                lambda x: x[\"_id\"],\n",
    "                client.fake_stars[collection].aggregate(\n",
    "                    [\n",
    "                        {\"$match\": query},\n",
    "                        {\"$group\": {\"_id\": \"$actor\"}},\n",
    "                    ]\n",
    "                ),\n",
    "            )\n",
    "        )"
   ]
  },
  {
   "cell_type": "code",
   "execution_count": 9,
   "metadata": {},
   "outputs": [],
   "source": [
    "repos, stars = data.get_fake_star_repos(), data.get_fake_stars_by_month()\n",
    "repos_with_campaign = data.get_repos_with_campaign()"
   ]
  },
  {
   "cell_type": "code",
   "execution_count": 28,
   "metadata": {},
   "outputs": [
    {
     "name": "stdout",
     "output_type": "stream",
     "text": [
      "# repos with suspected fake stars: 22915\n",
      "# suspected fake stars: 4525461.0 , # low activity,  946858.0 , # clustered,  3578603.0\n",
      "# repos with suspected fake star campaigns: 15835\n",
      "# suspected fake stars in those campaigns: 3076427.0\n",
      "# actors in suspected fake stars: 1070551\n",
      "# actors in suspected fake stars: 201873\n"
     ]
    }
   ],
   "source": [
    "# bean counting\n",
    "print(\"# repos with suspected fake stars:\", len(repos))\n",
    "print(\n",
    "    \"# suspected fake stars:\",\n",
    "    sum(stars.n_stars_fake),\n",
    "    \", # low activity, \",\n",
    "    sum(stars.n_stars_low_activity),\n",
    "    \", # clustered, \",\n",
    "    sum(stars.n_stars_clustered),\n",
    ")\n",
    "print(\"# repos with suspected fake star campaigns:\", len(repos_with_campaign))\n",
    "print(\n",
    "    \"# suspected fake stars in those campaigns:\",\n",
    "    sum(stars[stars.repo.isin(repos_with_campaign)].n_stars_fake),\n",
    ")\n",
    "print(\n",
    "    \"# actors in suspected fake stars:\",\n",
    "    len(\n",
    "        get_unique_actors(\"low_activity_stars\", {\"low_activity\": True})\n",
    "        | get_unique_actors(\"clustered_stars\", {\"clustered\": True})\n",
    "    ),\n",
    ")\n",
    "print(\n",
    "    \"# actors in suspected fake stars:\",\n",
    "    len(\n",
    "        get_unique_actors(\n",
    "            \"low_activity_stars\",\n",
    "            {\"low_activity\": True, \"repo\": {\"$in\": list(repos_with_campaign)}},\n",
    "        )\n",
    "        | get_unique_actors(\n",
    "            \"clustered_stars\",\n",
    "            {\"clustered\": True, \"repo\": {\"$in\": list(repos_with_campaign)}},\n",
    "        )\n",
    "    ),\n",
    ")"
   ]
  },
  {
   "cell_type": "code",
   "execution_count": 18,
   "metadata": {},
   "outputs": [],
   "source": [
    "%%capture\n",
    "# visual evaluation of post processing\n",
    "long_lived_repos = set(\n",
    "    stars.groupby(\"repo\").filter(lambda x: len(x) >= 3).repo.unique()\n",
    ")\n",
    "sample = random.sample(list(repos_with_campaign & long_lived_repos), 100)\n",
    "\n",
    "fig, axes = plt.subplots(20, 5, figsize=(50, 80))\n",
    "for i, repo in enumerate(sample):\n",
    "    df = stars[stars[\"repo\"] == repo]\n",
    "    ax = axes[i // 5, i % 5]\n",
    "    df.plot(kind=\"bar\", x=\"month\", y=\"n_stars\", ax=ax, color=\"C0\")\n",
    "    df.plot(kind=\"bar\", x=\"month\", y=\"n_stars_fake\", ax=ax, color=\"C1\")\n",
    "    ax.set_xticklabels([])\n",
    "    ax.set_title(repo)\n",
    "fig.savefig(\"plots/fake_star_campaigns.pdf\")"
   ]
  },
  {
   "cell_type": "code",
   "execution_count": null,
   "metadata": {},
   "outputs": [],
   "source": []
  }
 ],
 "metadata": {
  "kernelspec": {
   "display_name": "fake-stars",
   "language": "python",
   "name": "python3"
  },
  "language_info": {
   "codemirror_mode": {
    "name": "ipython",
    "version": 3
   },
   "file_extension": ".py",
   "mimetype": "text/x-python",
   "name": "python",
   "nbconvert_exporter": "python",
   "pygments_lexer": "ipython3",
   "version": "3.12.5"
  }
 },
 "nbformat": 4,
 "nbformat_minor": 2
}
