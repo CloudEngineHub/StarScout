{
 "cells": [
  {
   "cell_type": "code",
   "execution_count": 1,
   "metadata": {},
   "outputs": [],
   "source": [
    "import pymongo\n",
    "import numpy as np\n",
    "import matplotlib.pyplot as plt\n",
    "import seaborn as sns\n",
    "\n",
    "from dateutil import parser\n",
    "from collections import Counter\n",
    "\n",
    "from sksurv.nonparametric import kaplan_meier_estimator\n",
    "\n",
    "from scripts import MONGO_URL\n",
    "from scripts.analysis import data, plot\n",
    "\n",
    "W, H = 5.5, 2.5\n",
    "plot.init_matplotlib()"
   ]
  },
  {
   "cell_type": "code",
   "execution_count": 2,
   "metadata": {},
   "outputs": [],
   "source": [
    "repos = data.get_fake_star_repos()\n",
    "stars = data.get_fake_stars_by_month()\n",
    "repos_with_campaign = data.get_repos_with_campaign()\n",
    "repos = repos[repos.repo_name.isin(repos_with_campaign)]"
   ]
  },
  {
   "cell_type": "code",
   "execution_count": 3,
   "metadata": {},
   "outputs": [],
   "source": [
    "repos[\"deleted\"] = repos.repo_id.isna()\n",
    "repos[\"n_stars_fake\"] = repos.n_stars_low_activity + repos.n_stars_clustered\n",
    "repo_to_len_campaign = Counter(stars[stars.anomaly].repo)\n",
    "repos[\"length_campaign\"] = repos.repo_name.map(lambda x: repo_to_len_campaign[x])\n",
    "\n",
    "# Survial time\n",
    "repo_to_active, missing = dict(), 0\n",
    "with pymongo.MongoClient(MONGO_URL) as client:\n",
    "    for repo in repos_with_campaign:\n",
    "        events = list(\n",
    "            client.fake_stars.fake_repo_events.find({\"repo\": repo}).sort(\n",
    "                \"created_at\", pymongo.ASCENDING\n",
    "            )\n",
    "        )\n",
    "        if len(events) == 0:\n",
    "            repo_to_active[repo] = np.nan\n",
    "        else:\n",
    "            repo_to_active[repo] = (\n",
    "                parser.parse(events[-1][\"created_at\"])\n",
    "                - parser.parse(events[0][\"created_at\"])\n",
    "            ).days + 1\n",
    "repos[\"active_days\"] = repos.repo_name.map(lambda x: repo_to_active[x])"
   ]
  },
  {
   "cell_type": "code",
   "execution_count": 4,
   "metadata": {},
   "outputs": [
    {
     "data": {
      "text/html": [
       "<div>\n",
       "<style scoped>\n",
       "    .dataframe tbody tr th:only-of-type {\n",
       "        vertical-align: middle;\n",
       "    }\n",
       "\n",
       "    .dataframe tbody tr th {\n",
       "        vertical-align: top;\n",
       "    }\n",
       "\n",
       "    .dataframe thead th {\n",
       "        text-align: right;\n",
       "    }\n",
       "</style>\n",
       "<table border=\"1\" class=\"dataframe\">\n",
       "  <thead>\n",
       "    <tr style=\"text-align: right;\">\n",
       "      <th></th>\n",
       "      <th>n_stars</th>\n",
       "      <th>n_stars_fake</th>\n",
       "      <th>length_campaign</th>\n",
       "      <th>active_days</th>\n",
       "    </tr>\n",
       "  </thead>\n",
       "  <tbody>\n",
       "    <tr>\n",
       "      <th>count</th>\n",
       "      <td>16881.000000</td>\n",
       "      <td>16881.000000</td>\n",
       "      <td>16881.000000</td>\n",
       "      <td>16881.000000</td>\n",
       "    </tr>\n",
       "    <tr>\n",
       "      <th>mean</th>\n",
       "      <td>213.534506</td>\n",
       "      <td>203.209111</td>\n",
       "      <td>1.007523</td>\n",
       "      <td>15.450151</td>\n",
       "    </tr>\n",
       "    <tr>\n",
       "      <th>std</th>\n",
       "      <td>247.856486</td>\n",
       "      <td>196.305149</td>\n",
       "      <td>0.087095</td>\n",
       "      <td>98.452694</td>\n",
       "    </tr>\n",
       "    <tr>\n",
       "      <th>min</th>\n",
       "      <td>50.000000</td>\n",
       "      <td>50.000000</td>\n",
       "      <td>1.000000</td>\n",
       "      <td>1.000000</td>\n",
       "    </tr>\n",
       "    <tr>\n",
       "      <th>25%</th>\n",
       "      <td>90.000000</td>\n",
       "      <td>86.000000</td>\n",
       "      <td>1.000000</td>\n",
       "      <td>1.000000</td>\n",
       "    </tr>\n",
       "    <tr>\n",
       "      <th>50%</th>\n",
       "      <td>148.000000</td>\n",
       "      <td>139.000000</td>\n",
       "      <td>1.000000</td>\n",
       "      <td>1.000000</td>\n",
       "    </tr>\n",
       "    <tr>\n",
       "      <th>75%</th>\n",
       "      <td>254.000000</td>\n",
       "      <td>245.000000</td>\n",
       "      <td>1.000000</td>\n",
       "      <td>2.000000</td>\n",
       "    </tr>\n",
       "    <tr>\n",
       "      <th>max</th>\n",
       "      <td>18383.000000</td>\n",
       "      <td>7915.000000</td>\n",
       "      <td>3.000000</td>\n",
       "      <td>1919.000000</td>\n",
       "    </tr>\n",
       "  </tbody>\n",
       "</table>\n",
       "</div>"
      ],
      "text/plain": [
       "            n_stars  n_stars_fake  length_campaign   active_days\n",
       "count  16881.000000  16881.000000     16881.000000  16881.000000\n",
       "mean     213.534506    203.209111         1.007523     15.450151\n",
       "std      247.856486    196.305149         0.087095     98.452694\n",
       "min       50.000000     50.000000         1.000000      1.000000\n",
       "25%       90.000000     86.000000         1.000000      1.000000\n",
       "50%      148.000000    139.000000         1.000000      1.000000\n",
       "75%      254.000000    245.000000         1.000000      2.000000\n",
       "max    18383.000000   7915.000000         3.000000   1919.000000"
      ]
     },
     "execution_count": 4,
     "metadata": {},
     "output_type": "execute_result"
    }
   ],
   "source": [
    "repos[repos.repo_id.isna()][[\"n_stars\", \"n_stars_fake\", \"length_campaign\", \"active_days\"]].describe()"
   ]
  },
  {
   "cell_type": "code",
   "execution_count": 5,
   "metadata": {},
   "outputs": [
    {
     "data": {
      "text/html": [
       "<div>\n",
       "<style scoped>\n",
       "    .dataframe tbody tr th:only-of-type {\n",
       "        vertical-align: middle;\n",
       "    }\n",
       "\n",
       "    .dataframe tbody tr th {\n",
       "        vertical-align: top;\n",
       "    }\n",
       "\n",
       "    .dataframe thead th {\n",
       "        text-align: right;\n",
       "    }\n",
       "</style>\n",
       "<table border=\"1\" class=\"dataframe\">\n",
       "  <thead>\n",
       "    <tr style=\"text-align: right;\">\n",
       "      <th></th>\n",
       "      <th>n_stars</th>\n",
       "      <th>n_stars_latest</th>\n",
       "      <th>n_stars_fake</th>\n",
       "      <th>length_campaign</th>\n",
       "      <th>active_days</th>\n",
       "    </tr>\n",
       "  </thead>\n",
       "  <tbody>\n",
       "    <tr>\n",
       "      <th>count</th>\n",
       "      <td>1794.000000</td>\n",
       "      <td>1794.000000</td>\n",
       "      <td>1794.000000</td>\n",
       "      <td>1794.000000</td>\n",
       "      <td>1794.000000</td>\n",
       "    </tr>\n",
       "    <tr>\n",
       "      <th>mean</th>\n",
       "      <td>558.702899</td>\n",
       "      <td>549.175585</td>\n",
       "      <td>287.386288</td>\n",
       "      <td>1.104236</td>\n",
       "      <td>349.953735</td>\n",
       "    </tr>\n",
       "    <tr>\n",
       "      <th>std</th>\n",
       "      <td>3286.951265</td>\n",
       "      <td>3859.970343</td>\n",
       "      <td>1370.813631</td>\n",
       "      <td>0.426079</td>\n",
       "      <td>457.388448</td>\n",
       "    </tr>\n",
       "    <tr>\n",
       "      <th>min</th>\n",
       "      <td>50.000000</td>\n",
       "      <td>0.000000</td>\n",
       "      <td>50.000000</td>\n",
       "      <td>1.000000</td>\n",
       "      <td>1.000000</td>\n",
       "    </tr>\n",
       "    <tr>\n",
       "      <th>25%</th>\n",
       "      <td>103.000000</td>\n",
       "      <td>22.000000</td>\n",
       "      <td>75.000000</td>\n",
       "      <td>1.000000</td>\n",
       "      <td>35.000000</td>\n",
       "    </tr>\n",
       "    <tr>\n",
       "      <th>50%</th>\n",
       "      <td>175.000000</td>\n",
       "      <td>102.000000</td>\n",
       "      <td>116.000000</td>\n",
       "      <td>1.000000</td>\n",
       "      <td>189.000000</td>\n",
       "    </tr>\n",
       "    <tr>\n",
       "      <th>75%</th>\n",
       "      <td>293.750000</td>\n",
       "      <td>270.750000</td>\n",
       "      <td>188.000000</td>\n",
       "      <td>1.000000</td>\n",
       "      <td>442.500000</td>\n",
       "    </tr>\n",
       "    <tr>\n",
       "      <th>max</th>\n",
       "      <td>93272.000000</td>\n",
       "      <td>99626.000000</td>\n",
       "      <td>44874.000000</td>\n",
       "      <td>6.000000</td>\n",
       "      <td>2012.000000</td>\n",
       "    </tr>\n",
       "  </tbody>\n",
       "</table>\n",
       "</div>"
      ],
      "text/plain": [
       "            n_stars  n_stars_latest  n_stars_fake  length_campaign  \\\n",
       "count   1794.000000     1794.000000   1794.000000      1794.000000   \n",
       "mean     558.702899      549.175585    287.386288         1.104236   \n",
       "std     3286.951265     3859.970343   1370.813631         0.426079   \n",
       "min       50.000000        0.000000     50.000000         1.000000   \n",
       "25%      103.000000       22.000000     75.000000         1.000000   \n",
       "50%      175.000000      102.000000    116.000000         1.000000   \n",
       "75%      293.750000      270.750000    188.000000         1.000000   \n",
       "max    93272.000000    99626.000000  44874.000000         6.000000   \n",
       "\n",
       "       active_days  \n",
       "count  1794.000000  \n",
       "mean    349.953735  \n",
       "std     457.388448  \n",
       "min       1.000000  \n",
       "25%      35.000000  \n",
       "50%     189.000000  \n",
       "75%     442.500000  \n",
       "max    2012.000000  "
      ]
     },
     "execution_count": 5,
     "metadata": {},
     "output_type": "execute_result"
    }
   ],
   "source": [
    "repos[repos.repo_id.notna()][[\"n_stars\", \"n_stars_latest\", \"n_stars_fake\", \"length_campaign\", \"active_days\"]].describe()"
   ]
  },
  {
   "cell_type": "code",
   "execution_count": 6,
   "metadata": {},
   "outputs": [
    {
     "data": {
      "text/plain": [
       "<Axes: xlabel='variable', ylabel='value'>"
      ]
     },
     "execution_count": 6,
     "metadata": {},
     "output_type": "execute_result"
    },
    {
     "data": {
      "image/png": "[encoded data removed]",
      "text/plain": [
       "<Figure size 640x480 with 1 Axes>"
      ]
     },
     "metadata": {},
     "output_type": "display_data"
    }
   ],
   "source": [
    "sns.boxenplot(\n",
    "    data=repos.melt(\n",
    "        id_vars=\"deleted\",\n",
    "        value_vars=[\"n_stars_fake\", \"length_campaign\", \"active_days\"],\n",
    "        value_name=\"value\",\n",
    "    ),\n",
    "    x=\"variable\",\n",
    "    y=\"value\",\n",
    "    hue=\"deleted\",\n",
    "    log_scale=True,\n",
    ")"
   ]
  },
  {
   "cell_type": "code",
   "execution_count": 7,
   "metadata": {},
   "outputs": [
    {
     "data": {
      "image/png": "[encoded data removed]",
      "text/plain": [
       "<Figure size 550x250 with 1 Axes>"
      ]
     },
     "metadata": {},
     "output_type": "display_data"
    }
   ],
   "source": [
    "fig, ax = plt.subplots(1, 1, figsize=(W, H))\n",
    "sns.violinplot(data=repos, x=\"active_days\", hue=\"deleted\", ax=ax)\n",
    "ax.set_xlim(0)\n",
    "plot.remove_spines(ax)"
   ]
  },
  {
   "cell_type": "code",
   "execution_count": null,
   "metadata": {},
   "outputs": [
    {
     "data": {
      "text/plain": [
       "Text(0.5, 0, 'time $t$')"
      ]
     },
     "execution_count": 8,
     "metadata": {},
     "output_type": "execute_result"
    },
    {
     "data": {
      "image/png": "[encoded data removed]",
      "text/plain": [
       "<Figure size 640x480 with 1 Axes>"
      ]
     },
     "metadata": {},
     "output_type": "display_data"
    },
    {
     "ename": "",
     "evalue": "",
     "output_type": "error",
     "traceback": [
      "\u001b[1;31mThe Kernel crashed while executing code in the current cell or a previous cell. \n",
      "\u001b[1;31mPlease review the code in the cell(s) to identify a possible cause of the failure. \n",
      "\u001b[1;31mClick <a href='https://aka.ms/vscodeJupyterKernelCrash'>here</a> for more info. \n",
      "\u001b[1;31mView Jupyter <a href='command:jupyter.viewOutput'>log</a> for further details."
     ]
    }
   ],
   "source": [
    "time, survival_prob, conf_int = kaplan_meier_estimator(\n",
    "    repos[repos.active_days.notna()][\"deleted\"],\n",
    "    repos[repos.active_days.notna()][\"active_days\"],\n",
    "    conf_type=\"log-log\",\n",
    ")\n",
    "plt.step(time, survival_prob, where=\"post\")\n",
    "plt.fill_between(time, conf_int[0], conf_int[1], alpha=0.25, step=\"post\")\n",
    "plt.ylim(0, 1)\n",
    "plt.ylabel(r\"est. probability of survival $\\hat{S}(t)$\")\n",
    "plt.xlabel(\"time $t$\")"
   ]
  }
 ],
 "metadata": {
  "kernelspec": {
   "display_name": "fake-stars",
   "language": "python",
   "name": "python3"
  },
  "language_info": {
   "codemirror_mode": {
    "name": "ipython",
    "version": 3
   },
   "file_extension": ".py",
   "mimetype": "text/x-python",
   "name": "python",
   "nbconvert_exporter": "python",
   "pygments_lexer": "ipython3",
   "version": "3.12.5"
  }
 },
 "nbformat": 4,
 "nbformat_minor": 2
}
