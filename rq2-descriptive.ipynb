{
 "cells": [
  {
   "cell_type": "code",
   "execution_count": 3,
   "metadata": {},
   "outputs": [],
   "source": [
    "import pymongo\n",
    "import numpy as np\n",
    "import matplotlib.pyplot as plt\n",
    "import seaborn as sns\n",
    "\n",
    "from dateutil import parser\n",
    "from collections import Counter\n",
    "\n",
    "from sksurv.nonparametric import kaplan_meier_estimator\n",
    "\n",
    "from scripts import MONGO_URL\n",
    "from scripts.analysis import data, plot\n",
    "\n",
    "W, H = 5.5, 2.5\n",
    "plot.init_matplotlib()"
   ]
  },
  {
   "cell_type": "code",
   "execution_count": 4,
   "metadata": {},
   "outputs": [],
   "source": [
    "repos = data.get_fake_star_repos()\n",
    "stars = data.get_fake_stars_by_month()\n",
    "repos_with_campaign = data.get_repos_with_campaign()\n",
    "repos = repos[repos.repo_name.isin(repos_with_campaign)]"
   ]
  },
  {
   "cell_type": "code",
   "execution_count": 4,
   "metadata": {},
   "outputs": [],
   "source": [
    "repos[\"deleted\"] = repos.repo_id.isna()\n",
    "repos[\"n_stars_fake\"] = repos.n_stars_low_activity + repos.n_stars_clustered\n",
    "repo_to_len_campaign = Counter(stars[stars.anomaly].repo)\n",
    "repos[\"length_campaign\"] = repos.repo_name.map(lambda x: repo_to_len_campaign[x])\n",
    "\n",
    "# Survial time\n",
    "repo_to_active, missing = dict(), 0\n",
    "with pymongo.MongoClient(MONGO_URL) as client:\n",
    "    for repo in repos_with_campaign:\n",
    "        events = list(\n",
    "            client.fake_stars.fake_repo_events.find({\"repo\": repo}).sort(\n",
    "                \"created_at\", pymongo.ASCENDING\n",
    "            )\n",
    "        )\n",
    "        if len(events) == 0:\n",
    "            repo_to_active[repo] = np.nan\n",
    "        else:\n",
    "            repo_to_active[repo] = (\n",
    "                parser.parse(events[-1][\"created_at\"])\n",
    "                - parser.parse(events[0][\"created_at\"])\n",
    "            ).days + 1\n",
    "repos[\"active_days\"] = repos.repo_name.map(lambda x: repo_to_active[x])"
   ]
  },
  {
   "cell_type": "code",
   "execution_count": 10,
   "metadata": {},
   "outputs": [
    {
     "data": {
      "text/html": [
       "<div>\n",
       "<style scoped>\n",
       "    .dataframe tbody tr th:only-of-type {\n",
       "        vertical-align: middle;\n",
       "    }\n",
       "\n",
       "    .dataframe tbody tr th {\n",
       "        vertical-align: top;\n",
       "    }\n",
       "\n",
       "    .dataframe thead th {\n",
       "        text-align: right;\n",
       "    }\n",
       "</style>\n",
       "<table border=\"1\" class=\"dataframe\">\n",
       "  <thead>\n",
       "    <tr style=\"text-align: right;\">\n",
       "      <th></th>\n",
       "      <th>n_stars</th>\n",
       "      <th>n_stars_fake</th>\n",
       "      <th>length_campaign</th>\n",
       "      <th>active_days</th>\n",
       "    </tr>\n",
       "  </thead>\n",
       "  <tbody>\n",
       "    <tr>\n",
       "      <th>count</th>\n",
       "      <td>14371.000000</td>\n",
       "      <td>14371.000000</td>\n",
       "      <td>14371.000000</td>\n",
       "      <td>9035.000000</td>\n",
       "    </tr>\n",
       "    <tr>\n",
       "      <th>mean</th>\n",
       "      <td>203.042029</td>\n",
       "      <td>192.973975</td>\n",
       "      <td>1.008420</td>\n",
       "      <td>18.954510</td>\n",
       "    </tr>\n",
       "    <tr>\n",
       "      <th>std</th>\n",
       "      <td>194.414146</td>\n",
       "      <td>175.285956</td>\n",
       "      <td>0.092134</td>\n",
       "      <td>110.499971</td>\n",
       "    </tr>\n",
       "    <tr>\n",
       "      <th>min</th>\n",
       "      <td>50.000000</td>\n",
       "      <td>50.000000</td>\n",
       "      <td>1.000000</td>\n",
       "      <td>1.000000</td>\n",
       "    </tr>\n",
       "    <tr>\n",
       "      <th>25%</th>\n",
       "      <td>88.000000</td>\n",
       "      <td>83.000000</td>\n",
       "      <td>1.000000</td>\n",
       "      <td>1.000000</td>\n",
       "    </tr>\n",
       "    <tr>\n",
       "      <th>50%</th>\n",
       "      <td>139.000000</td>\n",
       "      <td>129.000000</td>\n",
       "      <td>1.000000</td>\n",
       "      <td>1.000000</td>\n",
       "    </tr>\n",
       "    <tr>\n",
       "      <th>75%</th>\n",
       "      <td>247.000000</td>\n",
       "      <td>236.000000</td>\n",
       "      <td>1.000000</td>\n",
       "      <td>3.000000</td>\n",
       "    </tr>\n",
       "    <tr>\n",
       "      <th>max</th>\n",
       "      <td>6815.000000</td>\n",
       "      <td>4385.000000</td>\n",
       "      <td>3.000000</td>\n",
       "      <td>1735.000000</td>\n",
       "    </tr>\n",
       "  </tbody>\n",
       "</table>\n",
       "</div>"
      ],
      "text/plain": [
       "            n_stars  n_stars_fake  length_campaign  active_days\n",
       "count  14371.000000  14371.000000     14371.000000  9035.000000\n",
       "mean     203.042029    192.973975         1.008420    18.954510\n",
       "std      194.414146    175.285956         0.092134   110.499971\n",
       "min       50.000000     50.000000         1.000000     1.000000\n",
       "25%       88.000000     83.000000         1.000000     1.000000\n",
       "50%      139.000000    129.000000         1.000000     1.000000\n",
       "75%      247.000000    236.000000         1.000000     3.000000\n",
       "max     6815.000000   4385.000000         3.000000  1735.000000"
      ]
     },
     "execution_count": 10,
     "metadata": {},
     "output_type": "execute_result"
    }
   ],
   "source": [
    "repos[repos.repo_id.isna()][[\"n_stars\", \"n_stars_fake\", \"length_campaign\", \"active_days\"]].describe()"
   ]
  },
  {
   "cell_type": "code",
   "execution_count": null,
   "metadata": {},
   "outputs": [
    {
     "data": {
      "text/html": [
       "<div>\n",
       "<style scoped>\n",
       "    .dataframe tbody tr th:only-of-type {\n",
       "        vertical-align: middle;\n",
       "    }\n",
       "\n",
       "    .dataframe tbody tr th {\n",
       "        vertical-align: top;\n",
       "    }\n",
       "\n",
       "    .dataframe thead th {\n",
       "        text-align: right;\n",
       "    }\n",
       "</style>\n",
       "<table border=\"1\" class=\"dataframe\">\n",
       "  <thead>\n",
       "    <tr style=\"text-align: right;\">\n",
       "      <th></th>\n",
       "      <th>n_stars</th>\n",
       "      <th>n_stars_latest</th>\n",
       "      <th>n_stars_fake</th>\n",
       "      <th>length_campaign</th>\n",
       "      <th>active_days</th>\n",
       "    </tr>\n",
       "  </thead>\n",
       "  <tbody>\n",
       "    <tr>\n",
       "      <th>count</th>\n",
       "      <td>1464.000000</td>\n",
       "      <td>1464.000000</td>\n",
       "      <td>1464.000000</td>\n",
       "      <td>1464.000000</td>\n",
       "      <td>1043.000000</td>\n",
       "    </tr>\n",
       "    <tr>\n",
       "      <th>mean</th>\n",
       "      <td>357.874317</td>\n",
       "      <td>330.868169</td>\n",
       "      <td>205.888661</td>\n",
       "      <td>1.085383</td>\n",
       "      <td>359.047939</td>\n",
       "    </tr>\n",
       "    <tr>\n",
       "      <th>std</th>\n",
       "      <td>1182.262307</td>\n",
       "      <td>1345.236061</td>\n",
       "      <td>458.558630</td>\n",
       "      <td>0.423447</td>\n",
       "      <td>448.799148</td>\n",
       "    </tr>\n",
       "    <tr>\n",
       "      <th>min</th>\n",
       "      <td>50.000000</td>\n",
       "      <td>0.000000</td>\n",
       "      <td>50.000000</td>\n",
       "      <td>1.000000</td>\n",
       "      <td>1.000000</td>\n",
       "    </tr>\n",
       "    <tr>\n",
       "      <th>25%</th>\n",
       "      <td>102.000000</td>\n",
       "      <td>18.000000</td>\n",
       "      <td>80.000000</td>\n",
       "      <td>1.000000</td>\n",
       "      <td>45.000000</td>\n",
       "    </tr>\n",
       "    <tr>\n",
       "      <th>50%</th>\n",
       "      <td>171.000000</td>\n",
       "      <td>96.500000</td>\n",
       "      <td>112.000000</td>\n",
       "      <td>1.000000</td>\n",
       "      <td>195.000000</td>\n",
       "    </tr>\n",
       "    <tr>\n",
       "      <th>75%</th>\n",
       "      <td>286.000000</td>\n",
       "      <td>284.000000</td>\n",
       "      <td>179.000000</td>\n",
       "      <td>1.000000</td>\n",
       "      <td>506.500000</td>\n",
       "    </tr>\n",
       "    <tr>\n",
       "      <th>max</th>\n",
       "      <td>25280.000000</td>\n",
       "      <td>27105.000000</td>\n",
       "      <td>11329.000000</td>\n",
       "      <td>6.000000</td>\n",
       "      <td>1920.000000</td>\n",
       "    </tr>\n",
       "  </tbody>\n",
       "</table>\n",
       "</div>"
      ],
      "text/plain": [
       "            n_stars  n_stars_latest  n_stars_fake  length_campaign  \\\n",
       "count   1464.000000     1464.000000   1464.000000      1464.000000   \n",
       "mean     357.874317      330.868169    205.888661         1.085383   \n",
       "std     1182.262307     1345.236061    458.558630         0.423447   \n",
       "min       50.000000        0.000000     50.000000         1.000000   \n",
       "25%      102.000000       18.000000     80.000000         1.000000   \n",
       "50%      171.000000       96.500000    112.000000         1.000000   \n",
       "75%      286.000000      284.000000    179.000000         1.000000   \n",
       "max    25280.000000    27105.000000  11329.000000         6.000000   \n",
       "\n",
       "       active_days  \n",
       "count  1043.000000  \n",
       "mean    359.047939  \n",
       "std     448.799148  \n",
       "min       1.000000  \n",
       "25%      45.000000  \n",
       "50%     195.000000  \n",
       "75%     506.500000  \n",
       "max    1920.000000  "
      ]
     },
     "execution_count": 11,
     "metadata": {},
     "output_type": "execute_result"
    },
    {
     "ename": "",
     "evalue": "",
     "output_type": "error",
     "traceback": [
      "\u001b[1;31mThe Kernel crashed while executing code in the current cell or a previous cell. \n",
      "\u001b[1;31mPlease review the code in the cell(s) to identify a possible cause of the failure. \n",
      "\u001b[1;31mClick <a href='https://aka.ms/vscodeJupyterKernelCrash'>here</a> for more info. \n",
      "\u001b[1;31mView Jupyter <a href='command:jupyter.viewOutput'>log</a> for further details."
     ]
    }
   ],
   "source": [
    "repos[repos.repo_id.notna()][[\"n_stars\", \"n_stars_latest\", \"n_stars_fake\", \"length_campaign\", \"active_days\"]].describe()"
   ]
  },
  {
   "cell_type": "code",
   "execution_count": 7,
   "metadata": {},
   "outputs": [
    {
     "data": {
      "text/plain": [
       "<Axes: xlabel='variable', ylabel='value'>"
      ]
     },
     "execution_count": 7,
     "metadata": {},
     "output_type": "execute_result"
    },
    {
     "data": {
      "image/png": "[encoded data removed]",
      "text/plain": [
       "<Figure size 640x480 with 1 Axes>"
      ]
     },
     "metadata": {},
     "output_type": "display_data"
    }
   ],
   "source": [
    "sns.boxenplot(\n",
    "    data=repos.melt(\n",
    "        id_vars=\"deleted\",\n",
    "        value_vars=[\"n_stars_fake\", \"length_campaign\", \"active_days\"],\n",
    "        value_name=\"value\",\n",
    "    ),\n",
    "    x=\"variable\",\n",
    "    y=\"value\",\n",
    "    hue=\"deleted\",\n",
    "    log_scale=True,\n",
    ")"
   ]
  },
  {
   "cell_type": "code",
   "execution_count": 8,
   "metadata": {},
   "outputs": [
    {
     "data": {
      "image/png": "[encoded data removed]",
      "text/plain": [
       "<Figure size 550x250 with 1 Axes>"
      ]
     },
     "metadata": {},
     "output_type": "display_data"
    }
   ],
   "source": [
    "fig, ax = plt.subplots(1, 1, figsize=(W, H))\n",
    "sns.violinplot(data=repos, x=\"active_days\", hue=\"deleted\", ax=ax)\n",
    "ax.set_xlim(0)\n",
    "plot.remove_spines(ax)"
   ]
  },
  {
   "cell_type": "code",
   "execution_count": 9,
   "metadata": {},
   "outputs": [
    {
     "data": {
      "text/plain": [
       "Text(0.5, 0, 'time $t$')"
      ]
     },
     "execution_count": 9,
     "metadata": {},
     "output_type": "execute_result"
    },
    {
     "data": {
      "image/png": "[encoded data removed]",
      "text/plain": [
       "<Figure size 640x480 with 1 Axes>"
      ]
     },
     "metadata": {},
     "output_type": "display_data"
    }
   ],
   "source": [
    "time, survival_prob, conf_int = kaplan_meier_estimator(\n",
    "    repos[repos.active_days.notna()][\"deleted\"],\n",
    "    repos[repos.active_days.notna()][\"active_days\"],\n",
    "    conf_type=\"log-log\",\n",
    ")\n",
    "plt.step(time, survival_prob, where=\"post\")\n",
    "plt.fill_between(time, conf_int[0], conf_int[1], alpha=0.25, step=\"post\")\n",
    "plt.ylim(0, 1)\n",
    "plt.ylabel(r\"est. probability of survival $\\hat{S}(t)$\")\n",
    "plt.xlabel(\"time $t$\")"
   ]
  }
 ],
 "metadata": {
  "kernelspec": {
   "display_name": "fake-stars",
   "language": "python",
   "name": "python3"
  },
  "language_info": {
   "codemirror_mode": {
    "name": "ipython",
    "version": 3
   },
   "file_extension": ".py",
   "mimetype": "text/x-python",
   "name": "python",
   "nbconvert_exporter": "python",
   "pygments_lexer": "ipython3",
   "version": "3.12.5"
  }
 },
 "nbformat": 4,
 "nbformat_minor": 2
}
